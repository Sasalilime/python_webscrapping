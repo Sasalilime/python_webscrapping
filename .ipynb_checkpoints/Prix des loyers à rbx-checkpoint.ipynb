{
 "cells": [
  {
   "cell_type": "code",
   "execution_count": 4,
   "metadata": {},
   "outputs": [
    {
     "ename": "AttributeError",
     "evalue": "module 'scrape' has no attribute 'parse_pages'",
     "output_type": "error",
     "traceback": [
      "\u001b[0;31m---------------------------------------------------------------------------\u001b[0m",
      "\u001b[0;31mAttributeError\u001b[0m                            Traceback (most recent call last)",
      "Input \u001b[0;32mIn [4]\u001b[0m, in \u001b[0;36m<module>\u001b[0;34m\u001b[0m\n\u001b[1;32m      1\u001b[0m \u001b[38;5;28;01mimport\u001b[39;00m \u001b[38;5;21;01mscrape\u001b[39;00m\n\u001b[0;32m----> 2\u001b[0m results \u001b[38;5;241m=\u001b[39m \u001b[43mscrape\u001b[49m\u001b[38;5;241;43m.\u001b[39;49m\u001b[43mparse_pages\u001b[49m()\n\u001b[1;32m      4\u001b[0m results\n\u001b[1;32m      6\u001b[0m results\u001b[38;5;241m.\u001b[39mdescribe()\n",
      "\u001b[0;31mAttributeError\u001b[0m: module 'scrape' has no attribute 'parse_pages'"
     ]
    }
   ],
   "source": [
    "import scrape\n",
    "results = scrape.parse_pages()\n",
    "\n",
    "results\n",
    "\n",
    "results.describe()\n",
    "\n",
    "\n",
    "# results[\"loyer / m²\"] = results[\"loyer (€)\"] / results[\"surface (m²)\"]\n",
    "# results.describe()\n",
    "\n",
    "\n",
    "# results.groupby(\"emplacement\")[\"loyer / m²\"].mean().sort_values(ascending=False)\n",
    "\n",
    "\n",
    "# import seaborn as sns\n",
    "# import matplotlib.pyplot as plt\n",
    "# plt.rcParams[\"figure.figsize\"] = (8,4.5)\n",
    "\n",
    "# sns.violinplot(x=\"nb_pieces\", y=\"loyer / m²\", data=results[results[\"emplacement\"] < \"75007\"])\n",
    "\n",
    "# homes = results.groupby([\"emplacement\", \"nb_pieces\"])[\"loyer / m²\"].mean().to_frame()\n",
    "# homes = homes.reset_index()\n",
    "# homes = homes.pivot(\"emplacement\", \"nb_pieces\", \"loyer / m²\")\n",
    "# sns.heatmap(homes, annot=True, cmap=\"YlGnBu\")"
   ]
  },
  {
   "cell_type": "code",
   "execution_count": null,
   "metadata": {},
   "outputs": [],
   "source": []
  }
 ],
 "metadata": {
  "kernelspec": {
   "display_name": "Python 3 (ipykernel)",
   "language": "python",
   "name": "python3"
  },
  "language_info": {
   "codemirror_mode": {
    "name": "ipython",
    "version": 3
   },
   "file_extension": ".py",
   "mimetype": "text/x-python",
   "name": "python",
   "nbconvert_exporter": "python",
   "pygments_lexer": "ipython3",
   "version": "3.8.10"
  }
 },
 "nbformat": 4,
 "nbformat_minor": 2
}
