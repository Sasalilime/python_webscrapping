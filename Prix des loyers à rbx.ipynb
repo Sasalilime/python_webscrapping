{
 "cells": [
  {
   "cell_type": "code",
   "execution_count": null,
   "metadata": {},
   "outputs": [
    {
     "ename": "",
     "evalue": "",
     "output_type": "error",
     "traceback": [
      "\u001b[1;31mFailed to start the Kernel. \n",
      "Kernel Python 3.10.2 64-bit is not usable. Check the Jupyter output tab for more information. \n",
      "View Jupyter <a href='command:jupyter.viewOutput'>log</a> for further details."
     ]
    }
   ],
   "source": [
    "import scraper\n",
    "results = scraper.parse_pages()\n",
    "\n",
    "\n"
   ]
  },
  {
   "cell_type": "code",
   "execution_count": null,
   "metadata": {},
   "outputs": [],
   "source": [
    "results\n",
    "\n",
    "\n",
    "\n",
    "# results.describe()\n",
    "\n",
    "\n",
    "# results[\"loyer / m²\"] = results[\"loyer (€)\"] / results[\"surface (m²)\"]\n",
    "# results.describe()\n",
    "\n",
    "\n",
    "# results.groupby(\"emplacement\")[\"loyer / m²\"].mean().sort_values(ascending=False)\n",
    "\n",
    "\n",
    "# import seaborn as sns\n",
    "# import matplotlib.pyplot as plt\n",
    "# plt.rcParams[\"figure.figsize\"] = (8,4.5)\n",
    "\n",
    "# sns.violinplot(x=\"nb_pieces\", y=\"loyer / m²\", data=results[results[\"emplacement\"] < \"75007\"])\n",
    "\n",
    "# homes = results.groupby([\"emplacement\", \"nb_pieces\"])[\"loyer / m²\"].mean().to_frame()\n",
    "# homes = homes.reset_index()\n",
    "# homes = homes.pivot(\"emplacement\", \"nb_pieces\", \"loyer / m²\")\n",
    "# sns.heatmap(homes, annot=True, cmap=\"YlGnBu\")"
   ]
  }
 ],
 "metadata": {
  "interpreter": {
   "hash": "97cc609b13305c559618ec78a438abc56230b9381f827f22d070313b9a1f3777"
  },
  "kernelspec": {
   "display_name": "Python 3.10.2 64-bit",
   "language": "python",
   "name": "python3"
  },
  "language_info": {
   "name": "python",
   "version": "3.10.2"
  },
  "orig_nbformat": 4
 },
 "nbformat": 4,
 "nbformat_minor": 2
}
